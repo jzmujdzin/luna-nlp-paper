{
 "cells": [
  {
   "cell_type": "code",
   "execution_count": 1,
   "id": "6cc64827-fd7a-4510-a3a3-089357b6c69d",
   "metadata": {},
   "outputs": [],
   "source": [
    "import pandas as pd\n",
    "import seaborn as sns"
   ]
  },
  {
   "cell_type": "code",
   "execution_count": 2,
   "id": "15cd8066-ab1e-4cce-8461-91e5684ffe0a",
   "metadata": {},
   "outputs": [],
   "source": [
    "df = pd.read_csv(r'E:\\luna-nlp-paper\\tools\\luna_tweets_sentiment_all.csv')"
   ]
  },
  {
   "cell_type": "code",
   "execution_count": 5,
   "id": "612f4467-25e2-4a65-b63e-43dd335721bd",
   "metadata": {},
   "outputs": [],
   "source": [
    "df['date'] = pd.to_datetime(df['date'])"
   ]
  },
  {
   "cell_type": "code",
   "execution_count": 6,
   "id": "2da66eef-b5a8-4a43-8e98-65c81204a2e5",
   "metadata": {},
   "outputs": [],
   "source": [
    "df_grpd = df.groupby(by=pd.Grouper(key='date', freq='4H')).mean()"
   ]
  },
  {
   "cell_type": "code",
   "execution_count": 7,
   "id": "e803f5cb-b3bf-4e01-a293-15c5fda0451a",
   "metadata": {},
   "outputs": [
    {
     "data": {
      "text/plain": [
       "<AxesSubplot:xlabel='bert', ylabel='Count'>"
      ]
     },
     "execution_count": 7,
     "metadata": {},
     "output_type": "execute_result"
    },
    {
     "data": {
      "image/png": "[encoded data removed]",
      "text/plain": [
       "<Figure size 432x288 with 1 Axes>"
      ]
     },
     "metadata": {
      "needs_background": "light"
     },
     "output_type": "display_data"
    }
   ],
   "source": [
    "sns.histplot(df_grpd.bert)"
   ]
  },
  {
   "cell_type": "code",
   "execution_count": 8,
   "id": "64d03d20-b02a-495d-a3a5-511c4d30fd99",
   "metadata": {},
   "outputs": [
    {
     "data": {
      "text/plain": [
       "<AxesSubplot:xlabel='vader', ylabel='Count'>"
      ]
     },
     "execution_count": 8,
     "metadata": {},
     "output_type": "execute_result"
    },
    {
     "data": {
      "image/png": "[encoded data removed]",
      "text/plain": [
       "<Figure size 432x288 with 1 Axes>"
      ]
     },
     "metadata": {
      "needs_background": "light"
     },
     "output_type": "display_data"
    }
   ],
   "source": [
    "sns.histplot(df_grpd.vader)"
   ]
  }
 ],
 "metadata": {
  "kernelspec": {
   "display_name": "Python 3 (ipykernel)",
   "language": "python",
   "name": "python3"
  },
  "language_info": {
   "codemirror_mode": {
    "name": "ipython",
    "version": 3
   },
   "file_extension": ".py",
   "mimetype": "text/x-python",
   "name": "python",
   "nbconvert_exporter": "python",
   "pygments_lexer": "ipython3",
   "version": "3.8.5"
  }
 },
 "nbformat": 4,
 "nbformat_minor": 5
}
